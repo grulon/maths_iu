{
 "cells": [
  {
   "cell_type": "code",
   "execution_count": 1,
   "id": "e44dc695",
   "metadata": {},
   "outputs": [],
   "source": [
    "# Stats stuff"
   ]
  },
  {
   "cell_type": "code",
   "execution_count": 2,
   "id": "244f0840",
   "metadata": {},
   "outputs": [],
   "source": [
    "def read_numbers_from_file(filename):\n",
    "    numbers = []\n",
    "    with open(filename, 'r') as file:\n",
    "        for line in file:\n",
    "            parts = line.split()\n",
    "            for part in parts:\n",
    "                if part.isdigit():\n",
    "                    numbers.append(int(part))\n",
    "    return numbers"
   ]
  },
  {
   "cell_type": "code",
   "execution_count": 23,
   "id": "ba013118",
   "metadata": {},
   "outputs": [],
   "source": [
    "def calculate_variance(numbers):\n",
    "    mean = sum(numbers) / len(numbers)\n",
    "    variance = sum((x - mean) ** 2 for x in numbers) / len(numbers) # -1 for sample not for full pop\n",
    "    return variance\n"
   ]
  },
  {
   "cell_type": "code",
   "execution_count": 4,
   "id": "eb66dc44",
   "metadata": {},
   "outputs": [],
   "source": [
    "import math\n",
    "\n",
    "def calculate_standard_deviation(numbers):\n",
    "    variance = calculate_variance(numbers)\n",
    "    standard_deviation = math.sqrt(variance)\n",
    "    return standard_deviation\n"
   ]
  },
  {
   "cell_type": "code",
   "execution_count": 6,
   "id": "ef00634b",
   "metadata": {},
   "outputs": [
    {
     "name": "stdout",
     "output_type": "stream",
     "text": [
      "Directory history (kept in _dh)\n",
      "0: C:\\Users\\glrulon\\Documents\\GitHub\\maths_iu\n"
     ]
    }
   ],
   "source": [
    "%dhist"
   ]
  },
  {
   "cell_type": "code",
   "execution_count": 13,
   "id": "d6ddeec9",
   "metadata": {},
   "outputs": [
    {
     "name": "stdout",
     "output_type": "stream",
     "text": [
      " Volume in drive C is Local Disk\n",
      " Volume Serial Number is 8651-CB41\n",
      "\n",
      " Directory of C:\\Users\\glrulon\\Documents\\GitHub\\maths_iu\n",
      "\n",
      "12/29/2023  06:26 AM    <DIR>          .\n",
      "12/29/2023  06:26 AM    <DIR>          ..\n",
      "12/29/2023  06:17 AM                56 .gitignore\n",
      "12/29/2023  06:26 AM    <DIR>          .ipynb_checkpoints\n",
      "12/29/2023  06:24 AM    <DIR>          data\n",
      "12/29/2023  06:17 AM             1,519 README.md\n",
      "12/29/2023  06:26 AM             3,588 stats_std_var.ipynb\n",
      "12/29/2023  06:20 AM             4,141 trig.ipynb\n",
      "               4 File(s)          9,304 bytes\n",
      "               4 Dir(s)  74,959,028,224 bytes free\n"
     ]
    }
   ],
   "source": [
    "%ls"
   ]
  },
  {
   "cell_type": "code",
   "execution_count": 24,
   "id": "bf93487f",
   "metadata": {},
   "outputs": [
    {
     "name": "stdout",
     "output_type": "stream",
     "text": [
      "list of years: [1971, 1973, 1992, 1993, 1996, 1998, 2002, 2017, 2022]\n",
      "Variance: 259.55555555555554\n",
      "Standard Deviation: 16.110727964792762\n"
     ]
    }
   ],
   "source": [
    "# grab data file\n",
    "filename = 'data/birthYear.txt'\n",
    "\n",
    "# Read numbers from file\n",
    "numbers = read_numbers_from_file(filename)\n",
    "print(f\"list of years: {numbers}\")\n",
    "# Calculate Variance\n",
    "variance = calculate_variance(numbers)\n",
    "print(f\"Variance: {variance}\")\n",
    "\n",
    "# Calculate Standard Deviation\n",
    "std_dev = calculate_standard_deviation(numbers)\n",
    "print(f\"Standard Deviation: {std_dev}\")\n"
   ]
  },
  {
   "cell_type": "markdown",
   "id": "e3b6f21c",
   "metadata": {},
   "source": [
    "### results from taking sample\n",
    "list of years: [1971, 1973, 1992, 1993, 1996, 1998, 2002, 2017, 2022]\n",
    "\n",
    "Variance: 258.55555555555554\n",
    "\n",
    "Standard Deviation: 16.079662793589783"
   ]
  },
  {
   "cell_type": "code",
   "execution_count": null,
   "id": "b09cd082",
   "metadata": {},
   "outputs": [],
   "source": []
  }
 ],
 "metadata": {
  "kernelspec": {
   "display_name": "Python 3 (ipykernel)",
   "language": "python",
   "name": "python3"
  },
  "language_info": {
   "codemirror_mode": {
    "name": "ipython",
    "version": 3
   },
   "file_extension": ".py",
   "mimetype": "text/x-python",
   "name": "python",
   "nbconvert_exporter": "python",
   "pygments_lexer": "ipython3",
   "version": "3.10.6"
  }
 },
 "nbformat": 4,
 "nbformat_minor": 5
}
