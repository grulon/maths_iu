{
 "cells": [
  {
   "cell_type": "code",
   "execution_count": 1,
   "id": "1165ba97-3a4c-4a58-805f-9c3d9d2c2e4c",
   "metadata": {},
   "outputs": [
    {
     "name": "stdout",
     "output_type": "stream",
     "text": [
      "The length of the arc (degrees) is: 2.617993877991494 units\n",
      "The length of the arc (radians) is: 150 units\n"
     ]
    }
   ],
   "source": [
    "import math\n",
    "\n",
    "def calculate_arc_length(radius, angle, angle_type='degrees'):\n",
    "    if angle_type == 'radians':\n",
    "        angle_in_radians = angle  # Angle is already in radians\n",
    "    else:\n",
    "        angle_in_radians = math.radians(angle)  # Convert angle from degrees to radians\n",
    "    arc_length = radius * angle_in_radians\n",
    "    return arc_length\n",
    "\n",
    "# Example usage:\n",
    "radius = 5  # For example, 5 units\n",
    "angle = 30  # For example, 30 degrees or radians\n",
    "arc_length_degrees = calculate_arc_length(radius, angle, 'degrees')  # Angle in degrees\n",
    "arc_length_radians = calculate_arc_length(radius, angle, 'radians')  # Angle in radians\n",
    "print(f\"The length of the arc (degrees) is: {arc_length_degrees} units\")\n",
    "print(f\"The length of the arc (radians) is: {arc_length_radians} units\")\n"
   ]
  },
  {
   "cell_type": "code",
   "execution_count": 2,
   "id": "b2db0856-09eb-4a39-bc2d-36bf73d8b484",
   "metadata": {},
   "outputs": [
    {
     "name": "stdout",
     "output_type": "stream",
     "text": [
      "The length of the arc is: 2.617993877991494 units\n"
     ]
    }
   ],
   "source": [
    "import math\n",
    "\n",
    "def calculate_arc_length(radius, angle_in_degrees):\n",
    "    angle_in_radians = math.radians(angle_in_degrees)  # Convert angle to radians\n",
    "    arc_length = radius * angle_in_radians\n",
    "    return arc_length\n",
    "\n",
    "# Example usage:\n",
    "radius = 5  # for example, 5 units\n",
    "angle = 30  # for example, 30 degrees\n",
    "arc_length = calculate_arc_length(radius, angle)\n",
    "print(f\"The length of the arc is: {arc_length} units\")\n"
   ]
  },
  {
   "cell_type": "code",
   "execution_count": 4,
   "id": "52bbada6-2c29-4eef-9b42-dbb93ba1b546",
   "metadata": {},
   "outputs": [
    {
     "name": "stdin",
     "output_type": "stream",
     "text": [
      "Enter the radius of the circle:  10\n",
      "Enter the angle:  30\n",
      "Is the angle in degrees or radians?  degrees\n"
     ]
    },
    {
     "name": "stdout",
     "output_type": "stream",
     "text": [
      "The length of the arc is: 5.235987755982988 units\n"
     ]
    }
   ],
   "source": [
    "import math\n",
    "\n",
    "def calculate_arc_length(radius, angle, angle_type='degrees'):\n",
    "    if angle_type.lower() == 'radians':\n",
    "        angle_in_radians = angle  # Angle is already in radians\n",
    "    else:\n",
    "        angle_in_radians = math.radians(angle)  # Convert angle from degrees to radians\n",
    "    arc_length = radius * angle_in_radians\n",
    "    return arc_length\n",
    "\n",
    "# Prompt user for input\n",
    "radius = float(input(\"Enter the radius of the circle: \"))\n",
    "angle = float(input(\"Enter the angle: \"))\n",
    "angle_type = input(\"Is the angle in degrees or radians? \")\n",
    "\n",
    "# Calculate and print the arc length\n",
    "arc_length = calculate_arc_length(radius, angle, angle_type)\n",
    "print(f\"The length of the arc is: {arc_length} units\")\n",
    "\n"
   ]
  },
  {
   "cell_type": "code",
   "execution_count": 1,
   "id": "73380269-0171-44b4-b242-b82e8609df39",
   "metadata": {},
   "outputs": [
    {
     "data": {
      "text/plain": [
       "19.79898987322333"
      ]
     },
     "execution_count": 1,
     "metadata": {},
     "output_type": "execute_result"
    }
   ],
   "source": [
    "import math\n",
    "\n",
    "# Leg length\n",
    "leg = 14\n",
    "\n",
    "# Hypotenuse for an isosceles right triangle\n",
    "hypotenuse = leg * math.sqrt(2)\n",
    "hypotenuse\n"
   ]
  },
  {
   "cell_type": "markdown",
   "id": "ae4e291b",
   "metadata": {},
   "source": [
    "### Trigonometric Ratios\n",
    "Trigonometric Ratios: Sine, Cosine, and Tangent are particularly useful in right triangles.\n",
    "\n",
    "Sine (sin) of an angle is the ratio of the opposite side to the hypotenuse.\n",
    "\n",
    "Cosine (cos) of an angle is the ratio of the adjacent side to the hypotenuse.\n",
    "\n",
    "Tangent (tan) of an angle is the ratio of the opposite side to the adjacent side.\n",
    "\n",
    "For example, if you know one angle (other than the right angle) and the length of one side, you can use the trigonometric functions to find the lengths of the other sides:\n",
    "\n",
    "If you know an angle θ and the adjacent side (to θ), you can find the opposite side using the tangent function, or the hypotenuse using the cosine function.\n",
    "\n",
    "If you know an angle θ and the opposite side (to θ), you can find the adjacent side using the tangent function, or the hypotenuse using the sine function.\n",
    "\n",
    "If you know an angle θ and the hypotenuse, you can find the opposite side using the sine function, or the adjacent side using the cosine function."
   ]
  },
  {
   "cell_type": "code",
   "execution_count": 2,
   "id": "26efe1cd",
   "metadata": {},
   "outputs": [
    {
     "data": {
      "text/plain": [
       "(0.49999999999999994, 0.8660254037844387, 0.5773502691896257, 4.47213595499958)"
      ]
     },
     "execution_count": 2,
     "metadata": {},
     "output_type": "execute_result"
    }
   ],
   "source": [
    "import math\n",
    "\n",
    "# Assume we have a right triangle with one angle theta (in degrees), \n",
    "# and the lengths of the adjacent side and the opposite side to theta.\n",
    "theta_degrees = 30  # for example\n",
    "theta = math.radians(theta_degrees)  # Convert angle to radians for math functions\n",
    "adjacent = 4  # length of the adjacent side\n",
    "opposite = 2  # length of the opposite side\n",
    "\n",
    "# Hypotenuse using Pythagorean theorem\n",
    "hypotenuse = math.sqrt(adjacent**2 + opposite**2)\n",
    "\n",
    "# Sine: ratio of the opposite side to the hypotenuse\n",
    "sin_theta = math.sin(theta)\n",
    "\n",
    "# Cosine: ratio of the adjacent side to the hypotenuse\n",
    "cos_theta = math.cos(theta)\n",
    "\n",
    "# Tangent: ratio of the opposite side to the adjacent side\n",
    "tan_theta = math.tan(theta)\n",
    "\n",
    "sin_theta, cos_theta, tan_theta, hypotenuse\n"
   ]
  },
  {
   "cell_type": "code",
   "execution_count": 3,
   "id": "55c4053e",
   "metadata": {},
   "outputs": [],
   "source": [
    "import math\n",
    "\n",
    "# Assume you know the opposite and hypotenuse\n",
    "opposite = 2\n",
    "hypotenuse = 5\n",
    "\n",
    "# Calculate the angle using inverse sine (arcsin)\n",
    "angle_rad = math.asin(opposite / hypotenuse)\n",
    "angle_degrees = math.degrees(angle_rad)\n",
    "\n",
    "# Now assume you know one angle (other than the right angle) and one side\n",
    "known_angle_degrees = 30\n",
    "known_angle_rad = math.radians(known_angle_degrees)\n",
    "known_adjacent = 10\n",
    "\n",
    "# Calculate the opposite side using sine\n",
    "opposite_from_angle = math.sin(known_angle_rad) * known_adjacent\n",
    "\n",
    "# Calculate the hypotenuse using cosine\n",
    "hypotenuse_from_angle = known_adjacent / math.cos(known_angle_rad)\n"
   ]
  },
  {
   "cell_type": "markdown",
   "id": "0e97a0eb",
   "metadata": {},
   "source": [
    "# LCD"
   ]
  },
  {
   "cell_type": "code",
   "execution_count": 4,
   "id": "f35f9a72",
   "metadata": {},
   "outputs": [],
   "source": [
    "def prime_factors(n):\n",
    "    \"\"\"Return the prime factors of the given number.\"\"\"\n",
    "    factors = []\n",
    "    # Start with two, which is the first prime\n",
    "    divisor = 2\n",
    "    while divisor * divisor <= n:\n",
    "        while n % divisor == 0:\n",
    "            factors.append(divisor)\n",
    "            n = n // divisor\n",
    "        divisor += 1\n",
    "    # If n is a prime number greater than 2\n",
    "    if n > 1:\n",
    "        factors.append(n)\n",
    "    return factors\n",
    "\n",
    "def least_common_denominator(a, b):\n",
    "    \"\"\"Calculate the Least Common Denominator (LCD) for two numbers.\"\"\"\n",
    "    # Get prime factors for each number\n",
    "    a_primes = prime_factors(a)\n",
    "    b_primes = prime_factors(b)\n",
    "    \n",
    "    # Create a set of unique prime factors\n",
    "    unique_primes = set(a_primes + b_primes)\n",
    "    \n",
    "    # Calculate the highest power of each prime factor and multiply\n",
    "    lcd = 1\n",
    "    for prime in unique_primes:\n",
    "        # Pick the highest exponent of the prime factor from both prime sets\n",
    "        max_power = max(a_primes.count(prime), b_primes.count(prime))\n",
    "        lcd *= prime ** max_power\n",
    "        \n",
    "    return lcd\n"
   ]
  },
  {
   "cell_type": "code",
   "execution_count": 35,
   "id": "5a4d0e28",
   "metadata": {},
   "outputs": [
    {
     "name": "stdout",
     "output_type": "stream",
     "text": [
      "The Least Common Denominator of 50 and 35 is 350\n"
     ]
    }
   ],
   "source": [
    "# Test the function with 3 and 15\n",
    "denom1 = 50\n",
    "denom2 = 35\n",
    "lcd = least_common_denominator(denom1, denom2)\n",
    "print(f\"The Least Common Denominator of {denom1} and {denom2} is {lcd}\")"
   ]
  },
  {
   "cell_type": "code",
   "execution_count": 56,
   "id": "b1fa8541",
   "metadata": {},
   "outputs": [
    {
     "data": {
      "text/plain": [
       "[2, 2, 2, 2, 5, 5, 5, 5]"
      ]
     },
     "execution_count": 56,
     "metadata": {},
     "output_type": "execute_result"
    }
   ],
   "source": [
    "prime_factors(10000)"
   ]
  },
  {
   "cell_type": "code",
   "execution_count": 53,
   "id": "2a1c02ab",
   "metadata": {},
   "outputs": [
    {
     "data": {
      "text/plain": [
       "[2, 2, 2]"
      ]
     },
     "execution_count": 53,
     "metadata": {},
     "output_type": "execute_result"
    }
   ],
   "source": [
    "prime_factors(8)"
   ]
  },
  {
   "cell_type": "code",
   "execution_count": 48,
   "id": "838bee65",
   "metadata": {},
   "outputs": [
    {
     "data": {
      "text/plain": [
       "[2, 2, 3, 5, 5]"
      ]
     },
     "execution_count": 48,
     "metadata": {},
     "output_type": "execute_result"
    }
   ],
   "source": [
    "prime_factors(300)"
   ]
  },
  {
   "cell_type": "code",
   "execution_count": 45,
   "id": "37812a0c",
   "metadata": {},
   "outputs": [
    {
     "data": {
      "text/plain": [
       "3500"
      ]
     },
     "execution_count": 45,
     "metadata": {},
     "output_type": "execute_result"
    }
   ],
   "source": [
    "2*2*5*5*5*7  ## FYI this was correct answer"
   ]
  },
  {
   "cell_type": "code",
   "execution_count": 18,
   "id": "e29c9d99",
   "metadata": {},
   "outputs": [
    {
     "data": {
      "text/plain": [
       "7.0"
      ]
     },
     "execution_count": 18,
     "metadata": {},
     "output_type": "execute_result"
    }
   ],
   "source": [
    "175/25"
   ]
  },
  {
   "cell_type": "code",
   "execution_count": 19,
   "id": "45ac333f",
   "metadata": {},
   "outputs": [
    {
     "data": {
      "text/plain": [
       "5.0"
      ]
     },
     "execution_count": 19,
     "metadata": {},
     "output_type": "execute_result"
    }
   ],
   "source": [
    "175/35"
   ]
  },
  {
   "cell_type": "code",
   "execution_count": 32,
   "id": "ed3d61b5",
   "metadata": {},
   "outputs": [
    {
     "data": {
      "text/plain": [
       "50"
      ]
     },
     "execution_count": 32,
     "metadata": {},
     "output_type": "execute_result"
    }
   ],
   "source": [
    "25*2"
   ]
  },
  {
   "cell_type": "code",
   "execution_count": 55,
   "id": "60809359",
   "metadata": {},
   "outputs": [
    {
     "data": {
      "text/plain": [
       "23.0"
      ]
     },
     "execution_count": 55,
     "metadata": {},
     "output_type": "execute_result"
    }
   ],
   "source": [
    "import math\n",
    "\n",
    "# Calculate the square root of the expression inside and then add 15\n",
    "expression_value = math.sqrt(58 - 4 + (2 * 5**2 / 5)) + 15\n",
    "expression_value\n"
   ]
  },
  {
   "cell_type": "code",
   "execution_count": 57,
   "id": "bb6764b4",
   "metadata": {},
   "outputs": [],
   "source": [
    "# Calculate LOG\n",
    "import math\n",
    "\n",
    "def calculate_log(base, number):\n",
    "    # Calculate the logarithm of a given number with the specified base\n",
    "    return math.log(number, base)\n"
   ]
  },
  {
   "cell_type": "code",
   "execution_count": 67,
   "id": "1945858d",
   "metadata": {},
   "outputs": [
    {
     "data": {
      "text/plain": [
       "2.807354922057604"
      ]
     },
     "execution_count": 67,
     "metadata": {},
     "output_type": "execute_result"
    }
   ],
   "source": [
    "# LOG  log(base) answer = expotent\n",
    "# Example usage: Calculate log base 10 of 10000\n",
    "result = calculate_log(2, 7)\n",
    "result"
   ]
  },
  {
   "cell_type": "code",
   "execution_count": 59,
   "id": "35ae2dbc",
   "metadata": {},
   "outputs": [],
   "source": [
    "# Calculate Power \n",
    "def calculate_power(x, y):\n",
    "    # Calculate x raised to the power of y\n",
    "    return x ** y"
   ]
  },
  {
   "cell_type": "code",
   "execution_count": 60,
   "id": "5b3afaac",
   "metadata": {},
   "outputs": [
    {
     "data": {
      "text/plain": [
       "10000"
      ]
     },
     "execution_count": 60,
     "metadata": {},
     "output_type": "execute_result"
    }
   ],
   "source": [
    "# Example usage: Calculate 10 raised to the power of 4\n",
    "result = calculate_power(10, 4)\n",
    "result"
   ]
  },
  {
   "cell_type": "code",
   "execution_count": 62,
   "id": "92c967d3",
   "metadata": {},
   "outputs": [
    {
     "data": {
      "text/plain": [
       "0.125"
      ]
     },
     "execution_count": 62,
     "metadata": {},
     "output_type": "execute_result"
    }
   ],
   "source": [
    "calculate_power(2,-3)"
   ]
  },
  {
   "cell_type": "code",
   "execution_count": 63,
   "id": "b6891411",
   "metadata": {},
   "outputs": [],
   "source": [
    "# Natural Logs\n",
    "import math\n",
    "\n",
    "def calculate_natural_log(number):\n",
    "    # Calculate the natural logarithm of a given number\n",
    "    return math.log(number)\n"
   ]
  },
  {
   "cell_type": "code",
   "execution_count": 64,
   "id": "5d5a642f",
   "metadata": {},
   "outputs": [],
   "source": [
    "import math\n",
    "\n",
    "def calculate_natural_power(x):\n",
    "    # Calculate e raised to the power of x\n",
    "    return math.exp(x)\n"
   ]
  },
  {
   "cell_type": "code",
   "execution_count": 65,
   "id": "41ba63e8",
   "metadata": {},
   "outputs": [
    {
     "data": {
      "text/plain": [
       "0.0"
      ]
     },
     "execution_count": 65,
     "metadata": {},
     "output_type": "execute_result"
    }
   ],
   "source": [
    "calculate_natural_log(1)"
   ]
  },
  {
   "cell_type": "code",
   "execution_count": 66,
   "id": "0896163e",
   "metadata": {},
   "outputs": [
    {
     "data": {
      "text/plain": [
       "20.085536923187668"
      ]
     },
     "execution_count": 66,
     "metadata": {},
     "output_type": "execute_result"
    }
   ],
   "source": [
    "calculate_natural_power(3)"
   ]
  },
  {
   "cell_type": "code",
   "execution_count": 68,
   "id": "8385ac61",
   "metadata": {},
   "outputs": [
    {
     "name": "stdout",
     "output_type": "stream",
     "text": [
      "1000\n",
      "2.9999999999999996\n",
      "9.999999999999998\n"
     ]
    }
   ],
   "source": [
    "import math\n",
    "\n",
    "def solve_log(base=None, answer=None, exponent=None):\n",
    "    if base and exponent and not answer:\n",
    "        # Given base and exponent, solve for answer\n",
    "        return base ** exponent\n",
    "    elif base and answer and not exponent:\n",
    "        # Given base and answer, solve for exponent (log)\n",
    "        return math.log(answer, base)\n",
    "    elif answer and exponent and not base:\n",
    "        # Given answer and exponent, solve for base\n",
    "        return answer ** (1/exponent)\n",
    "    else:\n",
    "        return \"Invalid input: You must provide exactly two arguments.\"\n",
    "\n",
    "# Example usages:\n",
    "# Find the answer given base=10 and exponent=3\n",
    "print(solve_log(base=10, exponent=3))\n",
    "\n",
    "# Find the exponent (log) given base=10 and answer=1000\n",
    "print(solve_log(base=10, answer=1000))\n",
    "\n",
    "# Find the base given answer=1000 and exponent=3\n",
    "print(solve_log(answer=1000, exponent=3))\n"
   ]
  },
  {
   "cell_type": "code",
   "execution_count": 69,
   "id": "fec04846",
   "metadata": {},
   "outputs": [
    {
     "data": {
      "text/plain": [
       "2.0"
      ]
     },
     "execution_count": 69,
     "metadata": {},
     "output_type": "execute_result"
    }
   ],
   "source": [
    "solve_log(answer = 32, exponent = 5) # log base x 32 = 5"
   ]
  },
  {
   "cell_type": "code",
   "execution_count": 70,
   "id": "69022991",
   "metadata": {},
   "outputs": [
    {
     "data": {
      "text/plain": [
       "125"
      ]
     },
     "execution_count": 70,
     "metadata": {},
     "output_type": "execute_result"
    }
   ],
   "source": [
    "solve_log(base = 5, exponent=3)  # log base 5 X = 3"
   ]
  },
  {
   "cell_type": "code",
   "execution_count": 71,
   "id": "1388a29b",
   "metadata": {},
   "outputs": [
    {
     "data": {
      "text/plain": [
       "2.807354922057604"
      ]
     },
     "execution_count": 71,
     "metadata": {},
     "output_type": "execute_result"
    }
   ],
   "source": [
    "solve_log(base = 2, answer = 7)  # Log base 2 7 = X"
   ]
  },
  {
   "cell_type": "markdown",
   "id": "cac97e4b",
   "metadata": {},
   "source": [
    "Change of base:  for log base 2 7 ..> log 7/ log 2  (base 10 when not stated otherwise)"
   ]
  },
  {
   "cell_type": "code",
   "execution_count": 72,
   "id": "a3b11c51",
   "metadata": {},
   "outputs": [
    {
     "data": {
      "text/plain": [
       "2.807354922057604"
      ]
     },
     "execution_count": 72,
     "metadata": {},
     "output_type": "execute_result"
    }
   ],
   "source": [
    "solve_log(base=10, answer = 7) / solve_log(base=10, answer = 2)"
   ]
  },
  {
   "cell_type": "code",
   "execution_count": null,
   "id": "6276252e",
   "metadata": {},
   "outputs": [],
   "source": []
  }
 ],
 "metadata": {
  "kernelspec": {
   "display_name": "Python 3 (ipykernel)",
   "language": "python",
   "name": "python3"
  },
  "language_info": {
   "codemirror_mode": {
    "name": "ipython",
    "version": 3
   },
   "file_extension": ".py",
   "mimetype": "text/x-python",
   "name": "python",
   "nbconvert_exporter": "python",
   "pygments_lexer": "ipython3",
   "version": "3.10.6"
  }
 },
 "nbformat": 4,
 "nbformat_minor": 5
}
