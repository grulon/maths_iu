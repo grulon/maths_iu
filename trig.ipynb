{
 "cells": [
  {
   "cell_type": "code",
   "execution_count": 1,
   "id": "1165ba97-3a4c-4a58-805f-9c3d9d2c2e4c",
   "metadata": {},
   "outputs": [
    {
     "name": "stdout",
     "output_type": "stream",
     "text": [
      "The length of the arc (degrees) is: 2.617993877991494 units\n",
      "The length of the arc (radians) is: 150 units\n"
     ]
    }
   ],
   "source": [
    "import math\n",
    "\n",
    "def calculate_arc_length(radius, angle, angle_type='degrees'):\n",
    "    if angle_type == 'radians':\n",
    "        angle_in_radians = angle  # Angle is already in radians\n",
    "    else:\n",
    "        angle_in_radians = math.radians(angle)  # Convert angle from degrees to radians\n",
    "    arc_length = radius * angle_in_radians\n",
    "    return arc_length\n",
    "\n",
    "# Example usage:\n",
    "radius = 5  # For example, 5 units\n",
    "angle = 30  # For example, 30 degrees or radians\n",
    "arc_length_degrees = calculate_arc_length(radius, angle, 'degrees')  # Angle in degrees\n",
    "arc_length_radians = calculate_arc_length(radius, angle, 'radians')  # Angle in radians\n",
    "print(f\"The length of the arc (degrees) is: {arc_length_degrees} units\")\n",
    "print(f\"The length of the arc (radians) is: {arc_length_radians} units\")\n"
   ]
  },
  {
   "cell_type": "code",
   "execution_count": 2,
   "id": "b2db0856-09eb-4a39-bc2d-36bf73d8b484",
   "metadata": {},
   "outputs": [
    {
     "name": "stdout",
     "output_type": "stream",
     "text": [
      "The length of the arc is: 2.617993877991494 units\n"
     ]
    }
   ],
   "source": [
    "import math\n",
    "\n",
    "def calculate_arc_length(radius, angle_in_degrees):\n",
    "    angle_in_radians = math.radians(angle_in_degrees)  # Convert angle to radians\n",
    "    arc_length = radius * angle_in_radians\n",
    "    return arc_length\n",
    "\n",
    "# Example usage:\n",
    "radius = 5  # for example, 5 units\n",
    "angle = 30  # for example, 30 degrees\n",
    "arc_length = calculate_arc_length(radius, angle)\n",
    "print(f\"The length of the arc is: {arc_length} units\")\n"
   ]
  },
  {
   "cell_type": "code",
   "execution_count": 4,
   "id": "52bbada6-2c29-4eef-9b42-dbb93ba1b546",
   "metadata": {},
   "outputs": [
    {
     "name": "stdin",
     "output_type": "stream",
     "text": [
      "Enter the radius of the circle:  10\n",
      "Enter the angle:  30\n",
      "Is the angle in degrees or radians?  degrees\n"
     ]
    },
    {
     "name": "stdout",
     "output_type": "stream",
     "text": [
      "The length of the arc is: 5.235987755982988 units\n"
     ]
    }
   ],
   "source": [
    "import math\n",
    "\n",
    "def calculate_arc_length(radius, angle, angle_type='degrees'):\n",
    "    if angle_type.lower() == 'radians':\n",
    "        angle_in_radians = angle  # Angle is already in radians\n",
    "    else:\n",
    "        angle_in_radians = math.radians(angle)  # Convert angle from degrees to radians\n",
    "    arc_length = radius * angle_in_radians\n",
    "    return arc_length\n",
    "\n",
    "# Prompt user for input\n",
    "radius = float(input(\"Enter the radius of the circle: \"))\n",
    "angle = float(input(\"Enter the angle: \"))\n",
    "angle_type = input(\"Is the angle in degrees or radians? \")\n",
    "\n",
    "# Calculate and print the arc length\n",
    "arc_length = calculate_arc_length(radius, angle, angle_type)\n",
    "print(f\"The length of the arc is: {arc_length} units\")\n",
    "\n"
   ]
  },
  {
   "cell_type": "code",
   "execution_count": null,
   "id": "73380269-0171-44b4-b242-b82e8609df39",
   "metadata": {},
   "outputs": [],
   "source": []
  }
 ],
 "metadata": {
  "kernelspec": {
   "display_name": "Python 3 (ipykernel)",
   "language": "python",
   "name": "python3"
  },
  "language_info": {
   "codemirror_mode": {
    "name": "ipython",
    "version": 3
   },
   "file_extension": ".py",
   "mimetype": "text/x-python",
   "name": "python",
   "nbconvert_exporter": "python",
   "pygments_lexer": "ipython3",
   "version": "3.10.6"
  }
 },
 "nbformat": 4,
 "nbformat_minor": 5
}
